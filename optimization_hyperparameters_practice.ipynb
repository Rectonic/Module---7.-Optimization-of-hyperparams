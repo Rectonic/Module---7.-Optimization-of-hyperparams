{
 "cells": [
  {
   "cell_type": "code",
   "execution_count": 100,
   "metadata": {},
   "outputs": [],
   "source": [
    "#импорт библиотек\n",
    "import numpy as np #для матричных вычислений\n",
    "import pandas as pd #для анализа и предобработки данных\n",
    "import matplotlib.pyplot as plt #для визуализации\n",
    "import seaborn as sns #для визуализации\n",
    "\n",
    "from sklearn import linear_model #линейные моделиё\n",
    "from sklearn import tree #деревья решений\n",
    "from sklearn import ensemble #ансамбли\n",
    "from sklearn import metrics #метрики\n",
    "from sklearn import preprocessing #предобработка\n",
    "from sklearn.model_selection import train_test_split #сплитование выборки\n",
    "\n",
    "from sklearn.model_selection import GridSearchCV\n",
    "from sklearn.model_selection import RandomizedSearchCV\n",
    "\n",
    "from sklearn.model_selection import cross_val_score\n",
    "import hyperopt\n",
    "from hyperopt import hp, fmin, tpe, Trials\n",
    "from hyperopt.pyll import scope\n",
    "from sklearn.model_selection import KFold\n",
    "\n",
    "import warnings\n",
    "warnings.filterwarnings(\"ignore\")\n",
    "import optuna\n",
    "%matplotlib inline\n",
    "plt.style.use('seaborn')"
   ]
  },
  {
   "cell_type": "code",
   "execution_count": 23,
   "metadata": {},
   "outputs": [
    {
     "data": {
      "text/html": [
       "<div>\n",
       "<style scoped>\n",
       "    .dataframe tbody tr th:only-of-type {\n",
       "        vertical-align: middle;\n",
       "    }\n",
       "\n",
       "    .dataframe tbody tr th {\n",
       "        vertical-align: top;\n",
       "    }\n",
       "\n",
       "    .dataframe thead th {\n",
       "        text-align: right;\n",
       "    }\n",
       "</style>\n",
       "<table border=\"1\" class=\"dataframe\">\n",
       "  <thead>\n",
       "    <tr style=\"text-align: right;\">\n",
       "      <th></th>\n",
       "      <th>Activity</th>\n",
       "      <th>D1</th>\n",
       "      <th>D2</th>\n",
       "      <th>D3</th>\n",
       "      <th>D4</th>\n",
       "      <th>D5</th>\n",
       "      <th>D6</th>\n",
       "      <th>D7</th>\n",
       "      <th>D8</th>\n",
       "      <th>D9</th>\n",
       "      <th>...</th>\n",
       "      <th>D1767</th>\n",
       "      <th>D1768</th>\n",
       "      <th>D1769</th>\n",
       "      <th>D1770</th>\n",
       "      <th>D1771</th>\n",
       "      <th>D1772</th>\n",
       "      <th>D1773</th>\n",
       "      <th>D1774</th>\n",
       "      <th>D1775</th>\n",
       "      <th>D1776</th>\n",
       "    </tr>\n",
       "  </thead>\n",
       "  <tbody>\n",
       "    <tr>\n",
       "      <th>0</th>\n",
       "      <td>1</td>\n",
       "      <td>0.000000</td>\n",
       "      <td>0.497009</td>\n",
       "      <td>0.10</td>\n",
       "      <td>0.0</td>\n",
       "      <td>0.132956</td>\n",
       "      <td>0.678031</td>\n",
       "      <td>0.273166</td>\n",
       "      <td>0.585445</td>\n",
       "      <td>0.743663</td>\n",
       "      <td>...</td>\n",
       "      <td>0</td>\n",
       "      <td>0</td>\n",
       "      <td>0</td>\n",
       "      <td>0</td>\n",
       "      <td>0</td>\n",
       "      <td>0</td>\n",
       "      <td>0</td>\n",
       "      <td>0</td>\n",
       "      <td>0</td>\n",
       "      <td>0</td>\n",
       "    </tr>\n",
       "    <tr>\n",
       "      <th>1</th>\n",
       "      <td>1</td>\n",
       "      <td>0.366667</td>\n",
       "      <td>0.606291</td>\n",
       "      <td>0.05</td>\n",
       "      <td>0.0</td>\n",
       "      <td>0.111209</td>\n",
       "      <td>0.803455</td>\n",
       "      <td>0.106105</td>\n",
       "      <td>0.411754</td>\n",
       "      <td>0.836582</td>\n",
       "      <td>...</td>\n",
       "      <td>1</td>\n",
       "      <td>1</td>\n",
       "      <td>1</td>\n",
       "      <td>1</td>\n",
       "      <td>0</td>\n",
       "      <td>1</td>\n",
       "      <td>0</td>\n",
       "      <td>0</td>\n",
       "      <td>1</td>\n",
       "      <td>0</td>\n",
       "    </tr>\n",
       "    <tr>\n",
       "      <th>2</th>\n",
       "      <td>1</td>\n",
       "      <td>0.033300</td>\n",
       "      <td>0.480124</td>\n",
       "      <td>0.00</td>\n",
       "      <td>0.0</td>\n",
       "      <td>0.209791</td>\n",
       "      <td>0.610350</td>\n",
       "      <td>0.356453</td>\n",
       "      <td>0.517720</td>\n",
       "      <td>0.679051</td>\n",
       "      <td>...</td>\n",
       "      <td>0</td>\n",
       "      <td>0</td>\n",
       "      <td>0</td>\n",
       "      <td>0</td>\n",
       "      <td>0</td>\n",
       "      <td>0</td>\n",
       "      <td>0</td>\n",
       "      <td>0</td>\n",
       "      <td>0</td>\n",
       "      <td>0</td>\n",
       "    </tr>\n",
       "    <tr>\n",
       "      <th>3</th>\n",
       "      <td>1</td>\n",
       "      <td>0.000000</td>\n",
       "      <td>0.538825</td>\n",
       "      <td>0.00</td>\n",
       "      <td>0.5</td>\n",
       "      <td>0.196344</td>\n",
       "      <td>0.724230</td>\n",
       "      <td>0.235606</td>\n",
       "      <td>0.288764</td>\n",
       "      <td>0.805110</td>\n",
       "      <td>...</td>\n",
       "      <td>0</td>\n",
       "      <td>0</td>\n",
       "      <td>0</td>\n",
       "      <td>0</td>\n",
       "      <td>0</td>\n",
       "      <td>0</td>\n",
       "      <td>0</td>\n",
       "      <td>0</td>\n",
       "      <td>0</td>\n",
       "      <td>0</td>\n",
       "    </tr>\n",
       "    <tr>\n",
       "      <th>4</th>\n",
       "      <td>0</td>\n",
       "      <td>0.100000</td>\n",
       "      <td>0.517794</td>\n",
       "      <td>0.00</td>\n",
       "      <td>0.0</td>\n",
       "      <td>0.494734</td>\n",
       "      <td>0.781422</td>\n",
       "      <td>0.154361</td>\n",
       "      <td>0.303809</td>\n",
       "      <td>0.812646</td>\n",
       "      <td>...</td>\n",
       "      <td>0</td>\n",
       "      <td>0</td>\n",
       "      <td>0</td>\n",
       "      <td>0</td>\n",
       "      <td>0</td>\n",
       "      <td>0</td>\n",
       "      <td>0</td>\n",
       "      <td>0</td>\n",
       "      <td>0</td>\n",
       "      <td>0</td>\n",
       "    </tr>\n",
       "  </tbody>\n",
       "</table>\n",
       "<p>5 rows × 1777 columns</p>\n",
       "</div>"
      ],
      "text/plain": [
       "   Activity        D1        D2    D3   D4        D5        D6        D7  \\\n",
       "0         1  0.000000  0.497009  0.10  0.0  0.132956  0.678031  0.273166   \n",
       "1         1  0.366667  0.606291  0.05  0.0  0.111209  0.803455  0.106105   \n",
       "2         1  0.033300  0.480124  0.00  0.0  0.209791  0.610350  0.356453   \n",
       "3         1  0.000000  0.538825  0.00  0.5  0.196344  0.724230  0.235606   \n",
       "4         0  0.100000  0.517794  0.00  0.0  0.494734  0.781422  0.154361   \n",
       "\n",
       "         D8        D9  ...  D1767  D1768  D1769  D1770  D1771  D1772  D1773  \\\n",
       "0  0.585445  0.743663  ...      0      0      0      0      0      0      0   \n",
       "1  0.411754  0.836582  ...      1      1      1      1      0      1      0   \n",
       "2  0.517720  0.679051  ...      0      0      0      0      0      0      0   \n",
       "3  0.288764  0.805110  ...      0      0      0      0      0      0      0   \n",
       "4  0.303809  0.812646  ...      0      0      0      0      0      0      0   \n",
       "\n",
       "   D1774  D1775  D1776  \n",
       "0      0      0      0  \n",
       "1      0      1      0  \n",
       "2      0      0      0  \n",
       "3      0      0      0  \n",
       "4      0      0      0  \n",
       "\n",
       "[5 rows x 1777 columns]"
      ]
     },
     "execution_count": 23,
     "metadata": {},
     "output_type": "execute_result"
    }
   ],
   "source": [
    "df = pd.read_csv('data/_train_sem09 (1).csv')\n",
    "df.head()"
   ]
  },
  {
   "cell_type": "code",
   "execution_count": 24,
   "metadata": {},
   "outputs": [
    {
     "data": {
      "text/plain": [
       "(3751, 1777)"
      ]
     },
     "execution_count": 24,
     "metadata": {},
     "output_type": "execute_result"
    }
   ],
   "source": [
    "df.shape"
   ]
  },
  {
   "cell_type": "code",
   "execution_count": 25,
   "metadata": {},
   "outputs": [],
   "source": [
    "X = df.drop(columns='Activity')\n",
    "y = df['Activity']"
   ]
  },
  {
   "cell_type": "code",
   "execution_count": 26,
   "metadata": {},
   "outputs": [
    {
     "data": {
      "text/plain": [
       "1    2034\n",
       "0    1717\n",
       "Name: Activity, dtype: int64"
      ]
     },
     "execution_count": 26,
     "metadata": {},
     "output_type": "execute_result"
    }
   ],
   "source": [
    "y.value_counts()"
   ]
  },
  {
   "cell_type": "code",
   "execution_count": 27,
   "metadata": {},
   "outputs": [],
   "source": [
    "X_train, X_test, y_train, y_test = train_test_split(X, y, test_size= 0.2, random_state= 42)"
   ]
  },
  {
   "cell_type": "code",
   "execution_count": 28,
   "metadata": {},
   "outputs": [
    {
     "name": "stdout",
     "output_type": "stream",
     "text": [
      "Shape of train 3000\n",
      "Shape of test 751\n"
     ]
    }
   ],
   "source": [
    "print(f'Shape of train {X_train.shape[0]}')\n",
    "print(f'Shape of test {X_test.shape[0]}')"
   ]
  },
  {
   "cell_type": "markdown",
   "metadata": {},
   "source": [
    "### Base model without optimized hyperparameters"
   ]
  },
  {
   "cell_type": "markdown",
   "metadata": {},
   "source": [
    "#### Logistic Regression"
   ]
  },
  {
   "cell_type": "code",
   "execution_count": 29,
   "metadata": {},
   "outputs": [
    {
     "name": "stdout",
     "output_type": "stream",
     "text": [
      "Prediction on train f1 score: 0.89\n",
      "Prediction on test accuracy score 0.75\n",
      "Prediction on test f1-score 0.79\n"
     ]
    }
   ],
   "source": [
    "log_reg = linear_model.LogisticRegression(max_iter= 1000)\n",
    "log_reg.fit(X_train, y_train)\n",
    "y_train_pred = log_reg.predict(X_train)\n",
    "y_test_pred = log_reg.predict(X_test)\n",
    "print(f'Prediction on train f1 score: {round(metrics.f1_score(y_train, y_train_pred),2)}')\n",
    "print(f'Prediction on test accuracy score {round(log_reg.score(X_test,y_test),2)}')\n",
    "print(f'Prediction on test f1-score {round(metrics.f1_score(y_test, y_test_pred),2)}')"
   ]
  },
  {
   "cell_type": "markdown",
   "metadata": {},
   "source": [
    "#### Random Forest"
   ]
  },
  {
   "cell_type": "code",
   "execution_count": 30,
   "metadata": {},
   "outputs": [
    {
     "name": "stdout",
     "output_type": "stream",
     "text": [
      "Prediction on train f1 score: 1.0\n",
      "Prediction on test accuracy score 0.75\n",
      "Prediction on test f1-score 0.83\n"
     ]
    }
   ],
   "source": [
    "rf_mod = ensemble.RandomForestClassifier(random_state= 42)\n",
    "rf_mod.fit(X_train, y_train)\n",
    "y_train_pred = rf_mod.predict(X_train)\n",
    "y_test_pred = rf_mod.predict(X_test)\n",
    "print(f'Prediction on train f1 score: {round(metrics.f1_score(y_train, y_train_pred),2)}')\n",
    "print(f'Prediction on test accuracy score {round(log_reg.score(X_test,y_test),2)}')\n",
    "print(f'Prediction on test f1-score {round(metrics.f1_score(y_test, y_test_pred),2)}')"
   ]
  },
  {
   "cell_type": "markdown",
   "metadata": {},
   "source": [
    "### Optimization of hyperparameters"
   ]
  },
  {
   "cell_type": "markdown",
   "metadata": {},
   "source": [
    "#### GridSearchCV logistic Regression"
   ]
  },
  {
   "cell_type": "code",
   "execution_count": 37,
   "metadata": {},
   "outputs": [
    {
     "name": "stderr",
     "output_type": "stream",
     "text": [
      "/Library/Frameworks/Python.framework/Versions/3.10/lib/python3.10/site-packages/sklearn/linear_model/_logistic.py:444: ConvergenceWarning: lbfgs failed to converge (status=1):\n",
      "STOP: TOTAL NO. of ITERATIONS REACHED LIMIT.\n",
      "\n",
      "Increase the number of iterations (max_iter) or scale the data as shown in:\n",
      "    https://scikit-learn.org/stable/modules/preprocessing.html\n",
      "Please also refer to the documentation for alternative solver options:\n",
      "    https://scikit-learn.org/stable/modules/linear_model.html#logistic-regression\n",
      "  n_iter_i = _check_optimize_result(\n",
      "/Library/Frameworks/Python.framework/Versions/3.10/lib/python3.10/site-packages/sklearn/linear_model/_logistic.py:444: ConvergenceWarning: lbfgs failed to converge (status=1):\n",
      "STOP: TOTAL NO. of ITERATIONS REACHED LIMIT.\n",
      "\n",
      "Increase the number of iterations (max_iter) or scale the data as shown in:\n",
      "    https://scikit-learn.org/stable/modules/preprocessing.html\n",
      "Please also refer to the documentation for alternative solver options:\n",
      "    https://scikit-learn.org/stable/modules/linear_model.html#logistic-regression\n",
      "  n_iter_i = _check_optimize_result(\n",
      "/Library/Frameworks/Python.framework/Versions/3.10/lib/python3.10/site-packages/scipy/optimize/_linesearch.py:305: LineSearchWarning: The line search algorithm did not converge\n",
      "  warn('The line search algorithm did not converge', LineSearchWarning)\n",
      "/Library/Frameworks/Python.framework/Versions/3.10/lib/python3.10/site-packages/sklearn/utils/optimize.py:203: UserWarning: Line Search failed\n",
      "  warnings.warn(\"Line Search failed\")\n",
      "/Library/Frameworks/Python.framework/Versions/3.10/lib/python3.10/site-packages/scipy/optimize/_linesearch.py:305: LineSearchWarning: The line search algorithm did not converge\n",
      "  warn('The line search algorithm did not converge', LineSearchWarning)\n",
      "/Library/Frameworks/Python.framework/Versions/3.10/lib/python3.10/site-packages/sklearn/utils/optimize.py:203: UserWarning: Line Search failed\n",
      "  warnings.warn(\"Line Search failed\")\n",
      "/Library/Frameworks/Python.framework/Versions/3.10/lib/python3.10/site-packages/sklearn/linear_model/_sag.py:350: ConvergenceWarning: The max_iter was reached which means the coef_ did not converge\n",
      "  warnings.warn(\n",
      "/Library/Frameworks/Python.framework/Versions/3.10/lib/python3.10/site-packages/sklearn/linear_model/_sag.py:350: ConvergenceWarning: The max_iter was reached which means the coef_ did not converge\n",
      "  warnings.warn(\n",
      "/Library/Frameworks/Python.framework/Versions/3.10/lib/python3.10/site-packages/sklearn/linear_model/_sag.py:350: ConvergenceWarning: The max_iter was reached which means the coef_ did not converge\n",
      "  warnings.warn(\n",
      "/Library/Frameworks/Python.framework/Versions/3.10/lib/python3.10/site-packages/scipy/optimize/_linesearch.py:305: LineSearchWarning: The line search algorithm did not converge\n",
      "  warn('The line search algorithm did not converge', LineSearchWarning)\n",
      "/Library/Frameworks/Python.framework/Versions/3.10/lib/python3.10/site-packages/sklearn/utils/optimize.py:203: UserWarning: Line Search failed\n",
      "  warnings.warn(\"Line Search failed\")\n",
      "/Library/Frameworks/Python.framework/Versions/3.10/lib/python3.10/site-packages/sklearn/linear_model/_sag.py:350: ConvergenceWarning: The max_iter was reached which means the coef_ did not converge\n",
      "  warnings.warn(\n",
      "/Library/Frameworks/Python.framework/Versions/3.10/lib/python3.10/site-packages/sklearn/linear_model/_sag.py:350: ConvergenceWarning: The max_iter was reached which means the coef_ did not converge\n",
      "  warnings.warn(\n",
      "/Library/Frameworks/Python.framework/Versions/3.10/lib/python3.10/site-packages/scipy/optimize/_linesearch.py:305: LineSearchWarning: The line search algorithm did not converge\n",
      "  warn('The line search algorithm did not converge', LineSearchWarning)\n",
      "/Library/Frameworks/Python.framework/Versions/3.10/lib/python3.10/site-packages/sklearn/utils/optimize.py:203: UserWarning: Line Search failed\n",
      "  warnings.warn(\"Line Search failed\")\n",
      "/Library/Frameworks/Python.framework/Versions/3.10/lib/python3.10/site-packages/scipy/optimize/_linesearch.py:305: LineSearchWarning: The line search algorithm did not converge\n",
      "  warn('The line search algorithm did not converge', LineSearchWarning)\n",
      "/Library/Frameworks/Python.framework/Versions/3.10/lib/python3.10/site-packages/sklearn/utils/optimize.py:203: UserWarning: Line Search failed\n",
      "  warnings.warn(\"Line Search failed\")\n"
     ]
    },
    {
     "name": "stdout",
     "output_type": "stream",
     "text": [
      "Grid Search CV best params: {'penalty': 'l2', 'solver': 'lbfgs'}\n",
      "Grid Search CV prediction on test accuracy score 0.75\n",
      "Grid Search CV prediction on test f1-score 0.79\n"
     ]
    }
   ],
   "source": [
    "param_grid = {'penalty':['l2', 'none'],\n",
    "              'solver': ['sag','lbfgs','newton-cg'],\n",
    "              \n",
    "}\n",
    "grid_search = GridSearchCV(\n",
    "    estimator= linear_model.LogisticRegression(max_iter = 1000),\n",
    "    param_grid= param_grid,\n",
    "    cv = 5,\n",
    "    n_jobs = -1\n",
    ")\n",
    "\n",
    "grid_search.fit(X_train, y_train)\n",
    "y_train_pred = grid_search.predict(X_train)\n",
    "y_test_pred = grid_search.predict(X_test)\n",
    "print(f'Grid Search CV best params: {grid_search.best_params_}')\n",
    "print(f'Grid Search CV prediction on test accuracy score {round(grid_search.score(X_test,y_test),2)}')\n",
    "print(f'Grid Search CV prediction on test f1-score {round(metrics.f1_score(y_test, y_test_pred),2)}')"
   ]
  },
  {
   "cell_type": "markdown",
   "metadata": {},
   "source": [
    "Метрику с помощью GridSearch CV улучшить не удалось"
   ]
  },
  {
   "cell_type": "markdown",
   "metadata": {},
   "source": [
    "### Randomized Search CV Logistic Regression"
   ]
  },
  {
   "cell_type": "code",
   "execution_count": 46,
   "metadata": {},
   "outputs": [
    {
     "name": "stderr",
     "output_type": "stream",
     "text": [
      "/Library/Frameworks/Python.framework/Versions/3.10/lib/python3.10/site-packages/sklearn/model_selection/_search.py:306: UserWarning: The total space of parameters 20 is smaller than n_iter=60. Running 20 iterations. For exhaustive searches, use GridSearchCV.\n",
      "  warnings.warn(\n",
      "/Library/Frameworks/Python.framework/Versions/3.10/lib/python3.10/site-packages/sklearn/linear_model/_sag.py:350: ConvergenceWarning: The max_iter was reached which means the coef_ did not converge\n",
      "  warnings.warn(\n",
      "/Library/Frameworks/Python.framework/Versions/3.10/lib/python3.10/site-packages/sklearn/linear_model/_sag.py:350: ConvergenceWarning: The max_iter was reached which means the coef_ did not converge\n",
      "  warnings.warn(\n",
      "/Library/Frameworks/Python.framework/Versions/3.10/lib/python3.10/site-packages/sklearn/linear_model/_sag.py:350: ConvergenceWarning: The max_iter was reached which means the coef_ did not converge\n",
      "  warnings.warn(\n",
      "/Library/Frameworks/Python.framework/Versions/3.10/lib/python3.10/site-packages/sklearn/linear_model/_sag.py:350: ConvergenceWarning: The max_iter was reached which means the coef_ did not converge\n",
      "  warnings.warn(\n",
      "/Library/Frameworks/Python.framework/Versions/3.10/lib/python3.10/site-packages/sklearn/linear_model/_sag.py:350: ConvergenceWarning: The max_iter was reached which means the coef_ did not converge\n",
      "  warnings.warn(\n",
      "/Library/Frameworks/Python.framework/Versions/3.10/lib/python3.10/site-packages/sklearn/linear_model/_sag.py:350: ConvergenceWarning: The max_iter was reached which means the coef_ did not converge\n",
      "  warnings.warn(\n",
      "/Library/Frameworks/Python.framework/Versions/3.10/lib/python3.10/site-packages/sklearn/linear_model/_sag.py:350: ConvergenceWarning: The max_iter was reached which means the coef_ did not converge\n",
      "  warnings.warn(\n",
      "/Library/Frameworks/Python.framework/Versions/3.10/lib/python3.10/site-packages/sklearn/linear_model/_sag.py:350: ConvergenceWarning: The max_iter was reached which means the coef_ did not converge\n",
      "  warnings.warn(\n",
      "/Library/Frameworks/Python.framework/Versions/3.10/lib/python3.10/site-packages/sklearn/linear_model/_sag.py:350: ConvergenceWarning: The max_iter was reached which means the coef_ did not converge\n",
      "  warnings.warn(\n",
      "/Library/Frameworks/Python.framework/Versions/3.10/lib/python3.10/site-packages/sklearn/linear_model/_sag.py:350: ConvergenceWarning: The max_iter was reached which means the coef_ did not converge\n",
      "  warnings.warn(\n",
      "/Library/Frameworks/Python.framework/Versions/3.10/lib/python3.10/site-packages/sklearn/linear_model/_sag.py:350: ConvergenceWarning: The max_iter was reached which means the coef_ did not converge\n",
      "  warnings.warn(\n",
      "/Library/Frameworks/Python.framework/Versions/3.10/lib/python3.10/site-packages/sklearn/linear_model/_sag.py:350: ConvergenceWarning: The max_iter was reached which means the coef_ did not converge\n",
      "  warnings.warn(\n",
      "/Library/Frameworks/Python.framework/Versions/3.10/lib/python3.10/site-packages/sklearn/linear_model/_sag.py:350: ConvergenceWarning: The max_iter was reached which means the coef_ did not converge\n",
      "  warnings.warn(\n",
      "/Library/Frameworks/Python.framework/Versions/3.10/lib/python3.10/site-packages/sklearn/linear_model/_sag.py:350: ConvergenceWarning: The max_iter was reached which means the coef_ did not converge\n",
      "  warnings.warn(\n",
      "/Library/Frameworks/Python.framework/Versions/3.10/lib/python3.10/site-packages/sklearn/linear_model/_sag.py:350: ConvergenceWarning: The max_iter was reached which means the coef_ did not converge\n",
      "  warnings.warn(\n",
      "/Library/Frameworks/Python.framework/Versions/3.10/lib/python3.10/site-packages/sklearn/linear_model/_sag.py:350: ConvergenceWarning: The max_iter was reached which means the coef_ did not converge\n",
      "  warnings.warn(\n",
      "/Library/Frameworks/Python.framework/Versions/3.10/lib/python3.10/site-packages/sklearn/linear_model/_sag.py:350: ConvergenceWarning: The max_iter was reached which means the coef_ did not converge\n",
      "  warnings.warn(\n",
      "/Library/Frameworks/Python.framework/Versions/3.10/lib/python3.10/site-packages/sklearn/linear_model/_sag.py:350: ConvergenceWarning: The max_iter was reached which means the coef_ did not converge\n",
      "  warnings.warn(\n",
      "/Library/Frameworks/Python.framework/Versions/3.10/lib/python3.10/site-packages/sklearn/linear_model/_sag.py:350: ConvergenceWarning: The max_iter was reached which means the coef_ did not converge\n",
      "  warnings.warn(\n"
     ]
    },
    {
     "name": "stdout",
     "output_type": "stream",
     "text": [
      "Randomized Search CV (Logistic Regression model) prediction on test accuracy score 0.75\n",
      "Randomized Search CV prediction on test f1-score 0.78\n",
      "Randomized Search CV best params: {'solver': 'liblinear', 'penalty': 'l1', 'C': 0.9}\n",
      "CPU times: user 828 ms, sys: 465 ms, total: 1.29 s\n",
      "Wall time: 2min 56s\n"
     ]
    }
   ],
   "source": [
    "%%time\n",
    "\n",
    "param_distributions = {'penalty': ['l1','l2'],\n",
    "                       'solver': ['saga', 'liblinear'],\n",
    "                       'C': [0.01, 0.3, 0.5, 0.7, 0.9]}\n",
    "random_search = RandomizedSearchCV(\n",
    "    estimator = linear_model.LogisticRegression(max_iter= 1000),\n",
    "    param_distributions= param_distributions,\n",
    "    cv = 5,\n",
    "    n_iter = 60,\n",
    "    n_jobs = -1\n",
    ")\n",
    "random_search.fit(X_train, y_train)\n",
    "y_test_pred = random_search.predict(X_test)\n",
    "print(f'Randomized Search CV (Logistic Regression model) prediction on test accuracy score {round(random_search.score(X_test,y_test),2)}')\n",
    "print(f'Randomized Search CV prediction on test f1-score {round(metrics.f1_score(y_test, y_test_pred),2)}')\n",
    "print(f'Randomized Search CV best params: {random_search.best_params_}')"
   ]
  },
  {
   "cell_type": "markdown",
   "metadata": {},
   "source": [
    "Метрику с помощью RandomizedSearch CV улучшить не удалось"
   ]
  },
  {
   "cell_type": "markdown",
   "metadata": {},
   "source": [
    "### Grid Search CV Random Forest"
   ]
  },
  {
   "cell_type": "code",
   "execution_count": 17,
   "metadata": {},
   "outputs": [
    {
     "name": "stdout",
     "output_type": "stream",
     "text": [
      "Grid Search CV prediction on test accuracy score 0.81\n",
      "Grid Search CV prediction on test f1-score 0.83\n",
      "Grid Search CV best params: {'criterion': 'gini', 'max_depth': 30, 'min_samples_leaf': 5}\n",
      "CPU times: user 2.78 s, sys: 597 ms, total: 3.38 s\n",
      "Wall time: 1min 49s\n"
     ]
    }
   ],
   "source": [
    "%%time\n",
    "param_grid_rf = {'min_samples_leaf': [int(x) for x in list(np.linspace(5,50,10))],\n",
    "                      'max_depth': [int(x) for x in list(np.linspace(10,100,10))],\n",
    "                      'criterion': ['entropy', 'gini']}\n",
    "grid_search_rf = GridSearchCV(\n",
    "    estimator = ensemble.RandomForestClassifier(random_state=42),\n",
    "    param_grid = param_grid_rf,\n",
    "    cv = 5,\n",
    "    n_jobs = -1\n",
    ")\n",
    "grid_search_rf.fit(X_train, y_train)\n",
    "y_test_pred = grid_search_rf.predict(X_test)\n",
    "print(f'Grid Search CV prediction on test accuracy score {round(grid_search_rf.score(X_test,y_test),2)}')\n",
    "print(f'Grid Search CV prediction on test f1-score {round(metrics.f1_score(y_test, y_test_pred),2)}')\n",
    "print(f'Grid Search CV best params: {grid_search_rf.best_params_}')"
   ]
  },
  {
   "cell_type": "markdown",
   "metadata": {},
   "source": [
    "### Randomized Search CV Random Forest"
   ]
  },
  {
   "cell_type": "code",
   "execution_count": 104,
   "metadata": {},
   "outputs": [
    {
     "name": "stdout",
     "output_type": "stream",
     "text": [
      "Randomized Search CV prediction on test accuracy score 0.81\n",
      "Randomized Search CV prediction on test f1-score 0.84\n",
      "Randomized Search CV best params: {'n_estimators': 900, 'min_samples_leaf': 5, 'max_depth': 50, 'criterion': 'entropy'}\n",
      "CPU times: user 8.02 s, sys: 786 ms, total: 8.81 s\n",
      "Wall time: 3min 10s\n"
     ]
    }
   ],
   "source": [
    "%%time\n",
    "param_distributions = {'min_samples_leaf': [int(x) for x in list(np.linspace(5,50,10))],\n",
    "                      'max_depth': [int(x) for x in list(np.linspace(10,100,10))],\n",
    "                      'n_estimators':[int(x) for x in list(np.linspace(100, 1000, 10))],\n",
    "                      'criterion': ['entropy', 'gini',]}\n",
    "random_search = RandomizedSearchCV(\n",
    "    estimator = ensemble.RandomForestClassifier(random_state=42),\n",
    "    param_distributions= param_distributions,\n",
    "    cv = 5,\n",
    "    n_iter = 60,\n",
    "    n_jobs = -1\n",
    ")\n",
    "random_search.fit(X_train, y_train)\n",
    "y_test_pred = random_search.predict(X_test)\n",
    "print(f'Randomized Search CV prediction on test accuracy score {round(random_search.score(X_test,y_test),2)}')\n",
    "print(f'Randomized Search CV prediction on test f1-score {round(metrics.f1_score(y_test, y_test_pred),2)}')\n",
    "print(f'Randomized Search CV best params: {random_search.best_params_}')"
   ]
  },
  {
   "cell_type": "code",
   "execution_count": 82,
   "metadata": {},
   "outputs": [],
   "source": [
    "random_state = 42\n",
    "space = {'min_samples_leaf': scope.int(hp.quniform('min_samples_leaf',5,30,1)),\n",
    "         'max_depth':scope.int(hp.quniform('max_depth',10,300,10)),\n",
    "         'n_estimators':scope.int(hp.quniform('n_estimators', 100, 1500,50)),\n",
    "        #  'criterion': hp.choice('criterion',['gini', 'entropy'])\n",
    "}"
   ]
  },
  {
   "cell_type": "code",
   "execution_count": 83,
   "metadata": {},
   "outputs": [],
   "source": [
    "def hyperopt_rf(params, cv=5, X=X_train, y=y_train, random_state = random_state):\n",
    "    # функция получает комбинацию гиперпараметров в \"params\"\n",
    "  \n",
    "    # используем эту комбинацию для построения модели\n",
    "    model = ensemble.RandomForestClassifier(**params, random_state=random_state)\n",
    "\n",
    "    # обучаем модель\n",
    "    model.fit(X, y)\n",
    "    score = metrics.f1_score(y, model.predict(X))\n",
    "    \n",
    "    score = cross_val_score(model, X, y, cv=cv, scoring=\"f1\", n_jobs=-1).mean()\n",
    "\n",
    "    # метрику необходимо минимизировать, поэтому ставим знак минус\n",
    "    return -score\n"
   ]
  },
  {
   "cell_type": "code",
   "execution_count": 84,
   "metadata": {},
   "outputs": [
    {
     "name": "stdout",
     "output_type": "stream",
     "text": [
      "100%|██████████| 20/20 [03:48<00:00, 11.42s/trial, best loss: -0.804692282486924] \n",
      "Наилучшие значения гиперпараметров {'max_depth': 260.0, 'min_samples_leaf': 5.0, 'n_estimators': 850.0}\n",
      "CPU times: user 1min 42s, sys: 1.85 s, total: 1min 44s\n",
      "Wall time: 3min 48s\n"
     ]
    }
   ],
   "source": [
    "%%time\n",
    "\n",
    "trials = Trials() # используется для логирования результатов\n",
    "best_rf=fmin(hyperopt_rf, # наша функция \n",
    "          space=space, # пространство гиперпараметров\n",
    "          algo = tpe.suggest,\n",
    "          max_evals=20, # максимальное количество итераций\n",
    "          trials=trials, # логирование результатов\n",
    "          rstate=np.random.RandomState(random_state)# фиксируем для повторяемости результата\n",
    "         )\n",
    "print(\"Наилучшие значения гиперпараметров {}\".format(best_rf))"
   ]
  },
  {
   "cell_type": "code",
   "execution_count": 85,
   "metadata": {},
   "outputs": [
    {
     "name": "stdout",
     "output_type": "stream",
     "text": [
      "W/Hyperopt prediction on train f1-score 0.7\n",
      "W/Hyperopt prediction on test f1-score 0.73\n",
      "W/Hyperopt prediction on test accuracy score 0.58\n"
     ]
    }
   ],
   "source": [
    "model_rf = ensemble.RandomForestClassifier(\n",
    "    n_estimators=int(best_rf['n_estimators']),\n",
    "    max_depth = int(best_rf['max_depth']),\n",
    "    min_samples_leaf = best_rf['min_samples_leaf'],\n",
    "    # criterion = best_rf['criterion'],\n",
    "    random_state = 42\n",
    ")\n",
    "\n",
    "model_rf.fit(X_train, y_train)\n",
    "y_train_pred = model_rf.predict(X_train)\n",
    "y_test_pred = model_rf.predict(X_test)\n",
    "print(f'W/Hyperopt prediction on train f1-score {round(metrics.f1_score(y_train, y_train_pred),2)}')\n",
    "print(f'W/Hyperopt prediction on test f1-score {round(metrics.f1_score(y_test, y_test_pred),2)}')\n",
    "print(f'W/Hyperopt prediction on test accuracy score {round(model_rf.score(X_test,y_test),2)}')"
   ]
  },
  {
   "cell_type": "markdown",
   "metadata": {},
   "source": [
    "### Optuna with cross-validation"
   ]
  },
  {
   "cell_type": "markdown",
   "metadata": {},
   "source": [
    "### Random Forest"
   ]
  },
  {
   "cell_type": "code",
   "execution_count": 88,
   "metadata": {},
   "outputs": [],
   "source": [
    "kfolds = KFold(n_splits=5, shuffle=True, random_state=random_state)\n",
    "def tuning(obj, n_trials = 20):\n",
    "    study = optuna.create_study(direction=\"maximize\")\n",
    "    study.optimize(obj, n_trials= n_trials)\n",
    "    params = study.best_params\n",
    "    best_score = study.best_value\n",
    "    print(f\"Best score: {best_score}\")\n",
    "    print(f\"Optimized parameters: {params}\")\n",
    "    return params\n"
   ]
  },
  {
   "cell_type": "code",
   "execution_count": 87,
   "metadata": {},
   "outputs": [],
   "source": [
    "def optuna_random_forest(trial):\n",
    "  n_estimators = trial.suggest_int('n_estimators', 100, 200, 1)\n",
    "  max_depth = trial.suggest_int('max_depth', 10, 30, 1)\n",
    "  min_samples_leaf = trial.suggest_int('min_samples_leaf', 2, 10, 1)\n",
    "  criterion = trial.suggest_categorical('criterion', ['gini', 'entropy'])\n",
    "\n",
    "  # создаем модель\n",
    "  model = ensemble.RandomForestClassifier(n_estimators=n_estimators,\n",
    "                                          max_depth=max_depth,\n",
    "                                          min_samples_leaf=min_samples_leaf,\n",
    "                                          criterion= criterion,\n",
    "                                          random_state=random_state)\n",
    "  scores = cross_val_score(\n",
    "        model, X_train, y_train, cv=kfolds, scoring=\"f1\"\n",
    "  )\n",
    "  return scores.mean()\n",
    "  # обучаем модель"
   ]
  },
  {
   "cell_type": "code",
   "execution_count": 89,
   "metadata": {},
   "outputs": [
    {
     "name": "stderr",
     "output_type": "stream",
     "text": [
      "\u001b[32m[I 2022-09-12 16:32:26,949]\u001b[0m A new study created in memory with name: no-name-f0553ff1-5a5f-4843-84b3-3854ad4394f2\u001b[0m\n",
      "\u001b[32m[I 2022-09-12 16:32:32,935]\u001b[0m Trial 0 finished with value: 0.808248231672555 and parameters: {'n_estimators': 179, 'max_depth': 25, 'min_samples_leaf': 6, 'criterion': 'entropy'}. Best is trial 0 with value: 0.808248231672555.\u001b[0m\n",
      "\u001b[32m[I 2022-09-12 16:32:37,931]\u001b[0m Trial 1 finished with value: 0.792677236389857 and parameters: {'n_estimators': 189, 'max_depth': 13, 'min_samples_leaf': 9, 'criterion': 'entropy'}. Best is trial 0 with value: 0.808248231672555.\u001b[0m\n",
      "\u001b[32m[I 2022-09-12 16:32:41,829]\u001b[0m Trial 2 finished with value: 0.8102317770033665 and parameters: {'n_estimators': 111, 'max_depth': 19, 'min_samples_leaf': 2, 'criterion': 'entropy'}. Best is trial 2 with value: 0.8102317770033665.\u001b[0m\n",
      "\u001b[32m[I 2022-09-12 16:32:46,029]\u001b[0m Trial 3 finished with value: 0.7875204948001553 and parameters: {'n_estimators': 170, 'max_depth': 13, 'min_samples_leaf': 10, 'criterion': 'gini'}. Best is trial 2 with value: 0.8102317770033665.\u001b[0m\n",
      "\u001b[32m[I 2022-09-12 16:32:49,764]\u001b[0m Trial 4 finished with value: 0.79344964057142 and parameters: {'n_estimators': 155, 'max_depth': 12, 'min_samples_leaf': 8, 'criterion': 'gini'}. Best is trial 2 with value: 0.8102317770033665.\u001b[0m\n",
      "\u001b[32m[I 2022-09-12 16:32:54,601]\u001b[0m Trial 5 finished with value: 0.8064799159565933 and parameters: {'n_estimators': 170, 'max_depth': 25, 'min_samples_leaf': 5, 'criterion': 'gini'}. Best is trial 2 with value: 0.8102317770033665.\u001b[0m\n",
      "\u001b[32m[I 2022-09-12 16:32:58,984]\u001b[0m Trial 6 finished with value: 0.7952363845607247 and parameters: {'n_estimators': 172, 'max_depth': 27, 'min_samples_leaf': 8, 'criterion': 'gini'}. Best is trial 2 with value: 0.8102317770033665.\u001b[0m\n",
      "\u001b[32m[I 2022-09-12 16:33:04,076]\u001b[0m Trial 7 finished with value: 0.8136525235052965 and parameters: {'n_estimators': 160, 'max_depth': 15, 'min_samples_leaf': 3, 'criterion': 'entropy'}. Best is trial 7 with value: 0.8136525235052965.\u001b[0m\n",
      "\u001b[32m[I 2022-09-12 16:33:08,769]\u001b[0m Trial 8 finished with value: 0.8085891385101464 and parameters: {'n_estimators': 169, 'max_depth': 20, 'min_samples_leaf': 5, 'criterion': 'gini'}. Best is trial 7 with value: 0.8136525235052965.\u001b[0m\n",
      "\u001b[32m[I 2022-09-12 16:33:12,736]\u001b[0m Trial 9 finished with value: 0.7877791773752066 and parameters: {'n_estimators': 168, 'max_depth': 10, 'min_samples_leaf': 9, 'criterion': 'entropy'}. Best is trial 7 with value: 0.8136525235052965.\u001b[0m\n",
      "\u001b[32m[I 2022-09-12 16:33:17,287]\u001b[0m Trial 10 finished with value: 0.8120786267752053 and parameters: {'n_estimators': 133, 'max_depth': 17, 'min_samples_leaf': 2, 'criterion': 'entropy'}. Best is trial 7 with value: 0.8136525235052965.\u001b[0m\n",
      "\u001b[32m[I 2022-09-12 16:33:21,762]\u001b[0m Trial 11 finished with value: 0.8119846873391336 and parameters: {'n_estimators': 131, 'max_depth': 17, 'min_samples_leaf': 2, 'criterion': 'entropy'}. Best is trial 7 with value: 0.8136525235052965.\u001b[0m\n",
      "\u001b[32m[I 2022-09-12 16:33:26,175]\u001b[0m Trial 12 finished with value: 0.8127566924965173 and parameters: {'n_estimators': 136, 'max_depth': 16, 'min_samples_leaf': 3, 'criterion': 'entropy'}. Best is trial 7 with value: 0.8136525235052965.\u001b[0m\n",
      "\u001b[32m[I 2022-09-12 16:33:30,482]\u001b[0m Trial 13 finished with value: 0.8127332404948472 and parameters: {'n_estimators': 138, 'max_depth': 16, 'min_samples_leaf': 4, 'criterion': 'entropy'}. Best is trial 7 with value: 0.8136525235052965.\u001b[0m\n",
      "\u001b[32m[I 2022-09-12 16:33:33,904]\u001b[0m Trial 14 finished with value: 0.8118398916116009 and parameters: {'n_estimators': 107, 'max_depth': 22, 'min_samples_leaf': 4, 'criterion': 'entropy'}. Best is trial 7 with value: 0.8136525235052965.\u001b[0m\n",
      "\u001b[32m[I 2022-09-12 16:33:38,660]\u001b[0m Trial 15 finished with value: 0.8128217535789382 and parameters: {'n_estimators': 149, 'max_depth': 15, 'min_samples_leaf': 3, 'criterion': 'entropy'}. Best is trial 7 with value: 0.8136525235052965.\u001b[0m\n",
      "\u001b[32m[I 2022-09-12 16:33:43,449]\u001b[0m Trial 16 finished with value: 0.8062493927044099 and parameters: {'n_estimators': 152, 'max_depth': 14, 'min_samples_leaf': 4, 'criterion': 'entropy'}. Best is trial 7 with value: 0.8136525235052965.\u001b[0m\n",
      "\u001b[32m[I 2022-09-12 16:33:50,164]\u001b[0m Trial 17 finished with value: 0.8128918620559114 and parameters: {'n_estimators': 200, 'max_depth': 30, 'min_samples_leaf': 3, 'criterion': 'entropy'}. Best is trial 7 with value: 0.8136525235052965.\u001b[0m\n",
      "\u001b[32m[I 2022-09-12 16:33:55,729]\u001b[0m Trial 18 finished with value: 0.8076740691388913 and parameters: {'n_estimators': 193, 'max_depth': 29, 'min_samples_leaf': 6, 'criterion': 'entropy'}. Best is trial 7 with value: 0.8136525235052965.\u001b[0m\n",
      "\u001b[32m[I 2022-09-12 16:34:02,361]\u001b[0m Trial 19 finished with value: 0.8128918620559114 and parameters: {'n_estimators': 200, 'max_depth': 30, 'min_samples_leaf': 3, 'criterion': 'entropy'}. Best is trial 7 with value: 0.8136525235052965.\u001b[0m\n"
     ]
    },
    {
     "name": "stdout",
     "output_type": "stream",
     "text": [
      "Best score: 0.8136525235052965\n",
      "Optimized parameters: {'n_estimators': 160, 'max_depth': 15, 'min_samples_leaf': 3, 'criterion': 'entropy'}\n"
     ]
    }
   ],
   "source": [
    "randomforest_params = tuning(optuna_random_forest)"
   ]
  },
  {
   "cell_type": "code",
   "execution_count": 92,
   "metadata": {},
   "outputs": [
    {
     "name": "stdout",
     "output_type": "stream",
     "text": [
      "Optuna optimized, train f1 score 0.96\n",
      "Optuna optimized, test f1 score 0.84\n"
     ]
    }
   ],
   "source": [
    "rf_model = ensemble.RandomForestClassifier(n_jobs=-1, random_state= 42, **randomforest_params)\n",
    "rf_model.fit(X_train,y_train)\n",
    "y_train_pred = rf_model.predict(X_train)\n",
    "y_test_pred = rf_model.predict(X_test)\n",
    "print('Optuna optimized, train f1 score {:.2f}'.format(metrics.f1_score(y_train, y_train_pred)))\n",
    "print('Optuna optimized, test f1 score {:.2f}'.format(metrics.f1_score(y_test, y_test_pred)))"
   ]
  },
  {
   "cell_type": "markdown",
   "metadata": {},
   "source": [
    "Hyperparameters optimized by Optuna have improved our test scores but our f1-score on a train selectionhave dropped by .04 points"
   ]
  },
  {
   "cell_type": "markdown",
   "metadata": {},
   "source": [
    "### Logistic Regression"
   ]
  },
  {
   "cell_type": "code",
   "execution_count": 98,
   "metadata": {},
   "outputs": [],
   "source": [
    "def optuna_logistic_reg(trial):\n",
    "    penalty = trial.suggest_categorical('penalty', ['l2','none'])\n",
    "    solver = trial.suggest_categorical('solver', ['sag', 'lbfgs'])\n",
    "    C = trial.suggest_float('C', 0.1, 1)\n",
    "    model = linear_model.LogisticRegression(\n",
    "        penalty= penalty,\n",
    "        solver= solver,\n",
    "        C= C,\n",
    "        max_iter= 1000\n",
    "    )\n",
    "    scores = cross_val_score(model, X_train, y_train, cv= kfolds, scoring = 'f1')\n",
    "    return scores.mean()"
   ]
  },
  {
   "cell_type": "code",
   "execution_count": 101,
   "metadata": {},
   "outputs": [
    {
     "name": "stderr",
     "output_type": "stream",
     "text": [
      "\u001b[32m[I 2022-09-12 17:01:03,882]\u001b[0m A new study created in memory with name: no-name-3774f3f3-6fd7-46c8-b887-ae9bb255b4d3\u001b[0m\n",
      "\u001b[32m[I 2022-09-12 17:01:17,243]\u001b[0m Trial 0 finished with value: 0.780051626976395 and parameters: {'penalty': 'l2', 'solver': 'lbfgs', 'C': 0.8977883077263543}. Best is trial 0 with value: 0.780051626976395.\u001b[0m\n",
      "\u001b[32m[I 2022-09-12 17:01:51,957]\u001b[0m Trial 1 finished with value: 0.7809084573728369 and parameters: {'penalty': 'l2', 'solver': 'sag', 'C': 0.8405129529035475}. Best is trial 1 with value: 0.7809084573728369.\u001b[0m\n",
      "\u001b[32m[I 2022-09-12 17:02:24,165]\u001b[0m Trial 2 finished with value: 0.7800611212039211 and parameters: {'penalty': 'l2', 'solver': 'sag', 'C': 0.8571646454553068}. Best is trial 1 with value: 0.7809084573728369.\u001b[0m\n",
      "\u001b[32m[I 2022-09-12 17:02:55,362]\u001b[0m Trial 3 finished with value: 0.7208920269980985 and parameters: {'penalty': 'none', 'solver': 'lbfgs', 'C': 0.23118209862729744}. Best is trial 1 with value: 0.7809084573728369.\u001b[0m\n",
      "\u001b[32m[I 2022-09-12 17:04:24,035]\u001b[0m Trial 4 finished with value: 0.7552885739966833 and parameters: {'penalty': 'none', 'solver': 'sag', 'C': 0.32054616894983123}. Best is trial 1 with value: 0.7809084573728369.\u001b[0m\n",
      "\u001b[32m[I 2022-09-12 17:04:34,266]\u001b[0m Trial 5 finished with value: 0.7843416563925919 and parameters: {'penalty': 'l2', 'solver': 'lbfgs', 'C': 0.4120185786141698}. Best is trial 5 with value: 0.7843416563925919.\u001b[0m\n",
      "\u001b[32m[I 2022-09-12 17:05:11,371]\u001b[0m Trial 6 finished with value: 0.7836302273593848 and parameters: {'penalty': 'l2', 'solver': 'sag', 'C': 0.6052060318676997}. Best is trial 5 with value: 0.7843416563925919.\u001b[0m\n",
      "\u001b[32m[I 2022-09-12 17:06:44,040]\u001b[0m Trial 7 finished with value: 0.7548242727881052 and parameters: {'penalty': 'none', 'solver': 'sag', 'C': 0.3049406763211273}. Best is trial 5 with value: 0.7843416563925919.\u001b[0m\n",
      "\u001b[32m[I 2022-09-12 17:07:21,069]\u001b[0m Trial 8 finished with value: 0.779850780362616 and parameters: {'penalty': 'l2', 'solver': 'sag', 'C': 0.953478640687142}. Best is trial 5 with value: 0.7843416563925919.\u001b[0m\n",
      "\u001b[32m[I 2022-09-12 17:07:57,793]\u001b[0m Trial 9 finished with value: 0.7798542555379723 and parameters: {'penalty': 'l2', 'solver': 'sag', 'C': 0.9300054248801611}. Best is trial 5 with value: 0.7843416563925919.\u001b[0m\n",
      "\u001b[32m[I 2022-09-12 17:08:43,433]\u001b[0m Trial 10 finished with value: 0.7208920269980985 and parameters: {'penalty': 'none', 'solver': 'lbfgs', 'C': 0.5134274387369241}. Best is trial 5 with value: 0.7843416563925919.\u001b[0m\n",
      "\u001b[32m[I 2022-09-12 17:08:52,910]\u001b[0m Trial 11 finished with value: 0.7827499280921597 and parameters: {'penalty': 'l2', 'solver': 'lbfgs', 'C': 0.5914382326695145}. Best is trial 5 with value: 0.7843416563925919.\u001b[0m\n",
      "\u001b[32m[I 2022-09-12 17:09:04,716]\u001b[0m Trial 12 finished with value: 0.7847547160709075 and parameters: {'penalty': 'l2', 'solver': 'lbfgs', 'C': 0.5336133095080312}. Best is trial 12 with value: 0.7847547160709075.\u001b[0m\n",
      "\u001b[32m[I 2022-09-12 17:09:13,873]\u001b[0m Trial 13 finished with value: 0.7845056697681839 and parameters: {'penalty': 'l2', 'solver': 'lbfgs', 'C': 0.46257935077365236}. Best is trial 12 with value: 0.7847547160709075.\u001b[0m\n",
      "\u001b[32m[I 2022-09-12 17:09:30,280]\u001b[0m Trial 14 finished with value: 0.7823834729678281 and parameters: {'penalty': 'l2', 'solver': 'lbfgs', 'C': 0.7194424180406712}. Best is trial 12 with value: 0.7847547160709075.\u001b[0m\n",
      "\u001b[32m[I 2022-09-12 17:09:37,760]\u001b[0m Trial 15 finished with value: 0.7896170573581796 and parameters: {'penalty': 'l2', 'solver': 'lbfgs', 'C': 0.11059000141746567}. Best is trial 15 with value: 0.7896170573581796.\u001b[0m\n",
      "\u001b[32m[I 2022-09-12 17:09:44,274]\u001b[0m Trial 16 finished with value: 0.7885697697705238 and parameters: {'penalty': 'l2', 'solver': 'lbfgs', 'C': 0.12542743157377811}. Best is trial 15 with value: 0.7896170573581796.\u001b[0m\n",
      "\u001b[32m[I 2022-09-12 17:09:49,372]\u001b[0m Trial 17 finished with value: 0.7899726081966426 and parameters: {'penalty': 'l2', 'solver': 'lbfgs', 'C': 0.11050614306199202}. Best is trial 17 with value: 0.7899726081966426.\u001b[0m\n",
      "\u001b[32m[I 2022-09-12 17:10:19,188]\u001b[0m Trial 18 finished with value: 0.7208920269980985 and parameters: {'penalty': 'none', 'solver': 'lbfgs', 'C': 0.10787416687227495}. Best is trial 17 with value: 0.7899726081966426.\u001b[0m\n",
      "\u001b[32m[I 2022-09-12 17:10:26,008]\u001b[0m Trial 19 finished with value: 0.788107764816062 and parameters: {'penalty': 'l2', 'solver': 'lbfgs', 'C': 0.21616939928456458}. Best is trial 17 with value: 0.7899726081966426.\u001b[0m\n"
     ]
    },
    {
     "name": "stdout",
     "output_type": "stream",
     "text": [
      "Best score: 0.7899726081966426\n",
      "Optimized parameters: {'penalty': 'l2', 'solver': 'lbfgs', 'C': 0.11050614306199202}\n"
     ]
    }
   ],
   "source": [
    "log_reg_params = tuning(optuna_logistic_reg)"
   ]
  },
  {
   "cell_type": "code",
   "execution_count": 103,
   "metadata": {},
   "outputs": [
    {
     "name": "stdout",
     "output_type": "stream",
     "text": [
      "Optuna optimized, train f1 score 0.85\n",
      "Optuna optimized, test f1 score 0.79\n"
     ]
    }
   ],
   "source": [
    "log_reg = linear_model.LogisticRegression(**log_reg_params, max_iter = 1000)\n",
    "log_reg.fit(X_train,y_train)\n",
    "y_train_pred = log_reg.predict(X_train)\n",
    "y_test_pred = log_reg.predict(X_test)\n",
    "print('Optuna optimized, train f1 score {:.2f}'.format(metrics.f1_score(y_train, y_train_pred)))\n",
    "print('Optuna optimized, test f1 score {:.2f}'.format(metrics.f1_score(y_test, y_test_pred)))"
   ]
  },
  {
   "cell_type": "markdown",
   "metadata": {},
   "source": [
    "We did not improve our score with optuna hyperparameters optimization"
   ]
  }
 ],
 "metadata": {
  "interpreter": {
   "hash": "aee8b7b246df8f9039afb4144a1f6fd8d2ca17a180786b69acc140d282b71a49"
  },
  "kernelspec": {
   "display_name": "Python 3.10.3 64-bit",
   "language": "python",
   "name": "python3"
  },
  "language_info": {
   "codemirror_mode": {
    "name": "ipython",
    "version": 3
   },
   "file_extension": ".py",
   "mimetype": "text/x-python",
   "name": "python",
   "nbconvert_exporter": "python",
   "pygments_lexer": "ipython3",
   "version": "3.10.3"
  },
  "orig_nbformat": 4
 },
 "nbformat": 4,
 "nbformat_minor": 2
}
